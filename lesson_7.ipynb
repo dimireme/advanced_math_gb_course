{
 "cells": [
  {
   "cell_type": "code",
   "execution_count": 114,
   "metadata": {},
   "outputs": [],
   "source": [
    "import numpy as np\n",
    "from pylab import *\n",
    "from mpl_toolkits.mplot3d import Axes3D\n",
    "import scipy\n",
    "import scipy.linalg"
   ]
  },
  {
   "cell_type": "markdown",
   "metadata": {},
   "source": [
    "## Введение в линейную алгебру\n",
    "\n",
    "5\\.1 Вектор – это частный случай матрицы 1xN и Nx1. Повторите материал для векторов, уделяя особое внимание умножению $A \\cdot B$.\n",
    "Вычислите, по возможности не используя программирование: $(5Е)^{–1}$, где Е – единичная матрица размера 5x5.\n",
    "\n",
    "$$\n",
    "(5E)^{-1} = 5^{-1} \\cdot E^{-1} = 0.2E = \n",
    "\\begin{bmatrix} \n",
    "    0.2 & 0 & 0 & 0 & 0 \\\\\n",
    "    0 & 0.2 & 0 & 0 & 0 \\\\\n",
    "    0 & 0 & 0.2 & 0 & 0 \\\\\n",
    "    0 & 0 & 0 & 0.2 & 0 \\\\\n",
    "    0 & 0 & 0 & 0 & 0.2 \\\\\n",
    "\\end{bmatrix} \n",
    "$$"
   ]
  },
  {
   "cell_type": "markdown",
   "metadata": {},
   "source": [
    "5\\.2 Вычислите определитель:\n",
    "\n",
    "$$\n",
    "\\begin{vmatrix} \n",
    "    1 & 2 & 3 \\\\\n",
    "    4 & 0 & 6 \\\\\n",
    "    7 & 8 & 9 \\\\\n",
    "\\end{vmatrix}\n",
    "= 1 \\cdot \n",
    "\\begin{vmatrix} \n",
    "    0 & 6 \\\\\n",
    "    8 & 9 \\\\\n",
    "\\end{vmatrix}\n",
    "- 2 \\cdot \n",
    "\\begin{vmatrix} \n",
    "    4 & 6 \\\\\n",
    "    7 & 9 \\\\\n",
    "\\end{vmatrix}\n",
    "+ 3 \\cdot\n",
    "\\begin{vmatrix} \n",
    "    4 & 0 \\\\\n",
    "    7 & 8 \\\\\n",
    "\\end{vmatrix} \n",
    "= \\\\\n",
    "= 1 \\cdot (-48) - 2 \\cdot (-6) + 3 \\cdot 32 = 60\n",
    "$$"
   ]
  },
  {
   "cell_type": "markdown",
   "metadata": {},
   "source": [
    "5.3.1 Вычислите матрицу, обратную данной:\n",
    "\n",
    "$$\n",
    "A =\n",
    "\\begin{bmatrix} \n",
    "    1 & 2 & 3  \\\\\n",
    "    4 & 0 & 6  \\\\\n",
    "    7 & 8 & 9\n",
    "\\end{bmatrix} \n",
    "$$\n",
    "\n",
    "$$\n",
    "A^{-1} = \\frac{A_*^T}{detA}\n",
    "$$\n",
    "\n",
    "$$\n",
    "A_* = \n",
    "\\begin{bmatrix} \n",
    "    -48 & -6 & 32 \\\\\n",
    "    6 & -12 & 6 \\\\\n",
    "    12 & 6 & -8\n",
    "\\end{bmatrix} \n",
    "$$\n",
    "\n",
    "$$\n",
    "A_*^T = \n",
    "\\begin{bmatrix} \n",
    "    -48 & 6 & 12 \\\\\n",
    "    -6 & -12 & 6 \\\\\n",
    "    32 & 6 & -8\n",
    "\\end{bmatrix} \n",
    "$$\n",
    "\n",
    "$$detA = -60$$\n",
    "\n",
    "Получили что \n",
    "\n",
    "$$\n",
    "A^{-1} = \n",
    "\\begin{bmatrix} \n",
    "    -0.8 & 0.1 & 0.2 \\\\\n",
    "    -0.1 & -0.2 & 0.1 \\\\\n",
    "    8/15 & 0.1 & -2/15\n",
    "\\end{bmatrix} \n",
    "$$"
   ]
  },
  {
   "cell_type": "markdown",
   "metadata": {},
   "source": [
    "5.3.2 Приведите пример матрицы 4x4, ранг которой равен 1.\n",
    "\n",
    "$$\n",
    "\\begin{bmatrix} \n",
    "    1 & 2 & 3 & 4 \\\\\n",
    "    2 & 4 & 6 & 8 \\\\\n",
    "    3 & 6 & 9 & 12 \\\\\n",
    "    4 & 8 & 12 & 16 \\\\\n",
    "\\end{bmatrix} \n",
    "$$"
   ]
  },
  {
   "cell_type": "markdown",
   "metadata": {},
   "source": [
    "5.4 Вычислите скалярное произведение двух векторов: (1, 5) и (2, 8).\n",
    "\n",
    "Ответ: 42"
   ]
  },
  {
   "cell_type": "markdown",
   "metadata": {},
   "source": [
    "5.5 Вычислите смешанное произведение трех векторов: (1, 5, 0), (2, 8, 7) и (7, 1.5, 3).\n",
    "\n",
    "$$\\vec{a} = (1, 5, 0)$$\n",
    "$$\\vec{b} = (2, 8, 7)$$\n",
    "$$\\vec{c} = (7, 1.5, 3)$$\n",
    "\n",
    "$$\n",
    "(\\vec{a}\\times\\vec{b})\\cdot{\\vec{c}} = (35, -7, -2)\\cdot{(7, 1.5, 3)} = 228.5\n",
    "$$"
   ]
  },
  {
   "cell_type": "markdown",
   "metadata": {},
   "source": [
    "## Системы линейных алгебраических уравнений\n",
    "\n",
    "6\\.1 Решите линейную систему:\n",
    "\n",
    "$$\n",
    "\\begin{bmatrix}\n",
    "1 & 2 & 3 \\\\\n",
    "4 & 0 & 6 \\\\\n",
    "7 & 8 & 9\n",
    "\\end{bmatrix} \n",
    "\\cdot X = \n",
    "\\begin{bmatrix}\n",
    "12 \\\\\n",
    "2 \\\\\n",
    "1\n",
    "\\end{bmatrix} \n",
    "$$"
   ]
  },
  {
   "cell_type": "code",
   "execution_count": 115,
   "metadata": {},
   "outputs": [
    {
     "name": "stdout",
     "output_type": "stream",
     "text": [
      "Решения системы уравнений: x1=-9.20, x2=0.90, x3=6.47.\n"
     ]
    }
   ],
   "source": [
    "A = np.array([[1,2,3],[4,0,6],[7,8,9]])\n",
    "B = np.array([12,2,1])\n",
    "x1, x2, x3 = np.linalg.solve(A, B)\n",
    "print('Решения системы уравнений: x1=%.2f, x2=%.2f, x3=%.2f.' % (x1, x2, x3))"
   ]
  },
  {
   "cell_type": "code",
   "execution_count": 116,
   "metadata": {},
   "outputs": [
    {
     "name": "stdout",
     "output_type": "stream",
     "text": [
      "[[-0.8         0.1         0.2       ]\n",
      " [ 0.1        -0.2         0.1       ]\n",
      " [ 0.53333333  0.1        -0.13333333]]\n",
      "det= 59.999999999999986\n",
      "Решения системы уравнений: x1=-9.20, x2=0.90, x3=6.47.\n"
     ]
    }
   ],
   "source": [
    "A1 = np.linalg.inv(A)\n",
    "print(A1)\n",
    "print(\"det=\", np.linalg.det(A))\n",
    "x1, x2, x3 = np.dot(A1, B)\n",
    "print('Решения системы уравнений: x1=%.2f, x2=%.2f, x3=%.2f.' % (x1, x2, x3))"
   ]
  },
  {
   "cell_type": "markdown",
   "metadata": {},
   "source": [
    "В обоих случаях получили одинаковый ответ x1=-9.2, x2=0.9, x3=6.47."
   ]
  },
  {
   "cell_type": "markdown",
   "metadata": {},
   "source": [
    "6\\.2 Найдите псевдорешение:\n",
    "\n",
    "$$\n",
    "\\begin{cases}\n",
    "x + 2y - z = 1 \\\\\n",
    "3x - 4y = 7 \\\\\n",
    "8x - 5y + 2z = 12 \\\\\n",
    "2x - 5z = 7 \\\\\n",
    "11x + 4y - 7z = 15 \\\\\n",
    "\\end{cases}\n",
    "$$"
   ]
  },
  {
   "cell_type": "code",
   "execution_count": 117,
   "metadata": {},
   "outputs": [
    {
     "name": "stdout",
     "output_type": "stream",
     "text": [
      "Псевдорешение x=1.139, y=-0.905, z=-0.901. Невязка 0.715. Ранг матрицы А равен 3.\n"
     ]
    }
   ],
   "source": [
    "A = np.array([[1,2,-1],[3,-4,0],[8,-5,2],[2,0,-5],[11,4,-7]])\n",
    "B = np.array([1,7,12,7,15])\n",
    "roots, nev, rang, _  = np.linalg.lstsq(A, B, rcond=None)\n",
    "print( \\\n",
    "      'Псевдорешение x=%.3f, y=%.3f, z=%.3f. Невязка %.3f. Ранг матрицы А равен %d.' % \\\n",
    "      (roots[0], roots[1], roots[2], nev[0], rang) \\\n",
    ")"
   ]
  },
  {
   "cell_type": "code",
   "execution_count": 118,
   "metadata": {},
   "outputs": [
    {
     "data": {
      "text/plain": [
       "array([ 0.23020495,  7.03751834, 11.83650981,  6.78328855, 15.21805313])"
      ]
     },
     "execution_count": 118,
     "metadata": {},
     "output_type": "execute_result"
    }
   ],
   "source": [
    "# Приближенные значения правой части системы уравнений с найденными корнями\n",
    "np.dot(A, roots)"
   ]
  },
  {
   "cell_type": "code",
   "execution_count": 119,
   "metadata": {},
   "outputs": [
    {
     "data": {
      "text/plain": [
       "array([-0.76979505,  0.03751834, -0.16349019, -0.21671145,  0.21805313])"
      ]
     },
     "execution_count": 119,
     "metadata": {},
     "output_type": "execute_result"
    }
   ],
   "source": [
    "# Невязка решений\n",
    "np.dot(A, roots) - B"
   ]
  },
  {
   "cell_type": "code",
   "execution_count": 120,
   "metadata": {},
   "outputs": [
    {
     "data": {
      "text/plain": [
       "0.7152321111819713"
      ]
     },
     "execution_count": 120,
     "metadata": {},
     "output_type": "execute_result"
    }
   ],
   "source": [
    "# Норма невязки\n",
    "np.linalg.norm(np.dot(A, roots) - B)**2"
   ]
  },
  {
   "cell_type": "markdown",
   "metadata": {},
   "source": [
    "6\\.3 Сколько решений имеет линейная система:\n",
    "\n",
    "$$\n",
    "\\begin{bmatrix}\n",
    "1 & 2 & 3 \\\\\n",
    "4 & 5 & 6 \\\\\n",
    "7 & 8 & 9\n",
    "\\end{bmatrix} \n",
    "\\cdot X = \n",
    "\\begin{bmatrix}\n",
    "12 \\\\\n",
    "2 \\\\\n",
    "1\n",
    "\\end{bmatrix} \n",
    "$$\n",
    "\n",
    "Если ноль – то измените вектор правой части так, чтобы система стала совместной, и решите ее."
   ]
  },
  {
   "cell_type": "code",
   "execution_count": 121,
   "metadata": {},
   "outputs": [
    {
     "name": "stdout",
     "output_type": "stream",
     "text": [
      "det = -9.51619735392994e-16\n",
      "rang = 2\n"
     ]
    }
   ],
   "source": [
    "A = np.array([[1,2,3],[4,5,6],[7,8,9]])\n",
    "B = np.array([12,2,1])\n",
    "print('det =', np.linalg.det(A))\n",
    "print('rang =', np.linalg.matrix_rank(A))"
   ]
  },
  {
   "cell_type": "markdown",
   "metadata": {},
   "source": [
    "Определитель матрицы равен нулю и она не совместна. Чтобы система стала совместной, нужно сделать её недоопределённой. Третья строка коэффициентов матрицы $A$ выражается черех первые две как $A_3 = 2A_2 - A_1$. Следующая система уравнений уже будет иметь решения:\n",
    "\n",
    "$$\n",
    "\\begin{bmatrix}\n",
    "1 & 2 & 3 \\\\\n",
    "4 & 5 & 6 \\\\\n",
    "7 & 8 & 9\n",
    "\\end{bmatrix} \n",
    "\\cdot X = \n",
    "\\begin{bmatrix}\n",
    "12 \\\\\n",
    "2 \\\\\n",
    "-8\n",
    "\\end{bmatrix} \n",
    "$$\n",
    "\n",
    "Данная сисстема уравнений имеет множество решений:\n",
    "\n",
    "$$\n",
    "\\begin{cases}\n",
    "x = t - \\frac{56}{3} \\\\\n",
    "y = -2t + \\frac{46}{3} \\\\\n",
    "z = t\n",
    "\\end{cases}\n",
    "$$"
   ]
  },
  {
   "cell_type": "code",
   "execution_count": 122,
   "metadata": {},
   "outputs": [
    {
     "data": {
      "text/plain": [
       "[<mpl_toolkits.mplot3d.art3d.Line3D at 0x7fae2893e310>]"
      ]
     },
     "execution_count": 122,
     "metadata": {},
     "output_type": "execute_result"
    },
    {
     "data": {
      "image/png": "[encoded data removed]",
      "text/plain": [
       "<Figure size 432x288 with 1 Axes>"
      ]
     },
     "metadata": {
      "needs_background": "light"
     },
     "output_type": "display_data"
    }
   ],
   "source": [
    "fig = figure()\n",
    "ax = Axes3D(fig)\n",
    "t = np.linspace(-10, 10, 101)\n",
    "x = t - 56/3\n",
    "y = -2*t+46/3\n",
    "z = t\n",
    "ax.plot3D(x, y, z, 'r')"
   ]
  },
  {
   "cell_type": "markdown",
   "metadata": {},
   "source": [
    "6\\.4 Вычислите LU-разложение матрицы:\n",
    "\n",
    "\\begin{bmatrix}\n",
    "1 & 2 & 3 \\\\\n",
    "2 & 16 & 21 \\\\\n",
    "4 & 28 & 73\n",
    "\\end{bmatrix} \n",
    "\n",
    "После этого придумайте вектор правых частей и решите полученную линейную систему трех уравнений с данной матрицей."
   ]
  },
  {
   "cell_type": "code",
   "execution_count": 123,
   "metadata": {},
   "outputs": [
    {
     "name": "stdout",
     "output_type": "stream",
     "text": [
      "[[0. 1. 0.]\n",
      " [0. 0. 1.]\n",
      " [1. 0. 0.]]\n",
      "[[ 1.    0.    0.  ]\n",
      " [ 0.25  1.    0.  ]\n",
      " [ 0.5  -0.4   1.  ]]\n",
      "[[  4.    28.    73.  ]\n",
      " [  0.    -5.   -15.25]\n",
      " [  0.     0.   -21.6 ]]\n",
      "[[0. 0. 0.]\n",
      " [0. 0. 0.]\n",
      " [0. 0. 0.]]\n"
     ]
    }
   ],
   "source": [
    "A = np.array([[1,2,3], [2,16,21], [4,28,73]])\n",
    "P, L, U = scipy.linalg.lu(A)\n",
    "\n",
    "print(P)\n",
    "print(L)\n",
    "print(U)\n",
    "print(A - np.dot(P, np.dot(L,U)))"
   ]
  },
  {
   "cell_type": "markdown",
   "metadata": {},
   "source": [
    "Получили что выполняется равенство $A = P \\cdot L \\cdot U$, хотя по видеоуроку, должно выполняться равенство $P \\cdot A = L \\cdot U$. Этот момент не понятен :) \n",
    "\n",
    "Примем вектор правых частей (5, 31, 19).\n",
    "\n",
    "$$\n",
    "\\begin{bmatrix}\n",
    "1 & 2 & 3 \\\\\n",
    "2 & 16 & 21 \\\\\n",
    "4 & 28 & 73\n",
    "\\end{bmatrix} \n",
    "\\cdot\n",
    "\\begin{bmatrix}\n",
    "X_1 \\\\\n",
    "X_2 \\\\\n",
    "X_3\n",
    "\\end{bmatrix} = \n",
    "\\begin{bmatrix}\n",
    "5 \\\\\n",
    "31 \\\\\n",
    "19\n",
    "\\end{bmatrix}\n",
    "$$\n",
    "\n",
    "$$\n",
    "\\begin{bmatrix}\n",
    "0 & 1 & 0 \\\\\n",
    "0 & 0 & 1 \\\\\n",
    "1 & 0 & 0\n",
    "\\end{bmatrix} \n",
    "\\cdot\n",
    "\\begin{bmatrix}\n",
    "1 & 0 & 0 \\\\\n",
    "0.25 & 1 & 0 \\\\\n",
    "0.5 & -0.4 & 1\n",
    "\\end{bmatrix} \n",
    "\\cdot\n",
    "\\begin{bmatrix}\n",
    "4 & 28 & 73 \\\\\n",
    "0 & -5 & -15.25 \\\\\n",
    "0 & 0 & -21.6\n",
    "\\end{bmatrix} \n",
    "\\cdot\n",
    "\\begin{bmatrix}\n",
    "X_1 \\\\\n",
    "X_2 \\\\\n",
    "X_3\n",
    "\\end{bmatrix} = \n",
    "\\begin{bmatrix}\n",
    "5 \\\\\n",
    "31 \\\\\n",
    "19\n",
    "\\end{bmatrix}\n",
    "$$\n"
   ]
  },
  {
   "cell_type": "markdown",
   "metadata": {},
   "source": [
    "Сделаем замену\n",
    "\n",
    "$$\n",
    "\\begin{bmatrix}\n",
    "4 & 28 & 73 \\\\\n",
    "0 & -5 & -15.25 \\\\\n",
    "0 & 0 & -21.6\n",
    "\\end{bmatrix} \n",
    "\\cdot\n",
    "\\begin{bmatrix}\n",
    "X_1 \\\\\n",
    "X_2 \\\\\n",
    "X_3\n",
    "\\end{bmatrix} = \n",
    "\\begin{bmatrix}\n",
    "Y_1 \\\\\n",
    "Y_2 \\\\\n",
    "Y_3\n",
    "\\end{bmatrix}\n",
    "$$\n",
    "\n",
    "$$\n",
    "\\begin{bmatrix}\n",
    "0 & 1 & 0 \\\\\n",
    "0 & 0 & 1 \\\\\n",
    "1 & 0 & 0\n",
    "\\end{bmatrix} \n",
    "\\cdot\n",
    "\\begin{bmatrix}\n",
    "1 & 0 & 0 \\\\\n",
    "0.25 & 1 & 0 \\\\\n",
    "0.5 & -0.4 & 1\n",
    "\\end{bmatrix} \n",
    "\\cdot\n",
    "\\begin{bmatrix}\n",
    "Y_1 \\\\\n",
    "Y_2 \\\\\n",
    "Y_3\n",
    "\\end{bmatrix} = \n",
    "\\begin{bmatrix}\n",
    "5 \\\\\n",
    "31 \\\\\n",
    "19\n",
    "\\end{bmatrix}\n",
    "$$"
   ]
  },
  {
   "cell_type": "markdown",
   "metadata": {},
   "source": [
    "$$\n",
    "\\begin{bmatrix}\n",
    "0.25 & 1 & 0 \\\\\n",
    "0.5 & -0.4 & 1 \\\\\n",
    "1 & 0 & 0 \n",
    "\\end{bmatrix} \n",
    "\\cdot\n",
    "\\begin{bmatrix}\n",
    "Y_1 \\\\\n",
    "Y_2 \\\\\n",
    "Y_3\n",
    "\\end{bmatrix} = \n",
    "\\begin{bmatrix}\n",
    "5 \\\\\n",
    "31 \\\\\n",
    "19\n",
    "\\end{bmatrix}\n",
    "$$\n",
    "\n",
    "Получили $Y_1 = 19; Y_2 = 0.25; Y_3 = 21.6$. Сделаем обратную подстановку:"
   ]
  },
  {
   "cell_type": "markdown",
   "metadata": {},
   "source": [
    "$$\n",
    "\\begin{bmatrix}\n",
    "4 & 28 & 73 \\\\\n",
    "0 & -5 & -15.25 \\\\\n",
    "0 & 0 & -21.6\n",
    "\\end{bmatrix} \n",
    "\\cdot\n",
    "\\begin{bmatrix}\n",
    "X_1 \\\\\n",
    "X_2 \\\\\n",
    "X_3\n",
    "\\end{bmatrix} = \n",
    "\\begin{bmatrix}\n",
    "19 \\\\\n",
    "0.25 \\\\\n",
    "21.6\n",
    "\\end{bmatrix}\n",
    "$$\n",
    "\n",
    "Ответ: $X_3 = -1; X_2 = 3; X_1 = 2$."
   ]
  },
  {
   "cell_type": "markdown",
   "metadata": {},
   "source": [
    "6\\.5 Найдите нормальное псевдорешение недоопределенной системы:\n",
    "\n",
    "\\begin{cases}\n",
    "x + 2y – z = 1 \\\\\n",
    "8x – 5y + 2z = 12\n",
    "\\end{cases}\n",
    "\n",
    "Для этого определите функцию Q(x,y,z), равную норме решения, и найдите ее минимум."
   ]
  },
  {
   "cell_type": "code",
   "execution_count": 124,
   "metadata": {},
   "outputs": [],
   "source": [
    "def Q(x, y, z):\n",
    "    return (x**2 + y**2 + z**2)\n",
    "\n",
    "def Y(x):\n",
    "    return 10*x-14\n",
    "\n",
    "def Z(x):\n",
    "    return x+2*Y(x)-1"
   ]
  },
  {
   "cell_type": "code",
   "execution_count": 125,
   "metadata": {},
   "outputs": [
    {
     "data": {
      "image/png": "[encoded data removed]",
      "text/plain": [
       "<Figure size 432x288 with 1 Axes>"
      ]
     },
     "metadata": {
      "needs_background": "light"
     },
     "output_type": "display_data"
    }
   ],
   "source": [
    "x = np.linspace(0, 3, 301)\n",
    "y = Y(x)\n",
    "z = Z(x)\n",
    "plt.plot(x, Q(x, y, z))\n",
    "plt.grid()\n",
    "plt.show()"
   ]
  },
  {
   "cell_type": "code",
   "execution_count": 126,
   "metadata": {},
   "outputs": [
    {
     "name": "stdout",
     "output_type": "stream",
     "text": [
      "Нормальное псевдорешение x=1.382, y=-0.181, z=0.020.\n"
     ]
    }
   ],
   "source": [
    "A = np.array([[1,2,-1], [8,-5,2]])\n",
    "B = np.array([1,12])\n",
    "\n",
    "roots, nev, rang, _  = np.linalg.lstsq(A, B, rcond=None)\n",
    "print('Нормальное псевдорешение x=%.3f, y=%.3f, z=%.3f.' % (roots[0], roots[1], roots[2]))"
   ]
  },
  {
   "cell_type": "markdown",
   "metadata": {},
   "source": [
    "6\\.6 Найдите одно из псевдорешений вырожденной системы:\n",
    "\n",
    "$$\n",
    "\\begin{bmatrix}\n",
    "1 & 2 & 3 \\\\\n",
    "4 & 5 & 6 \\\\\n",
    "7 & 8 & 9\n",
    "\\end{bmatrix} \n",
    "\\cdot X = \n",
    "\\begin{bmatrix}\n",
    "2 \\\\\n",
    "5 \\\\\n",
    "11\n",
    "\\end{bmatrix} \n",
    "$$\n",
    "\n",
    "Попробуйте также отыскать и нормальное псевдорешение."
   ]
  },
  {
   "cell_type": "code",
   "execution_count": 127,
   "metadata": {},
   "outputs": [
    {
     "name": "stdout",
     "output_type": "stream",
     "text": [
      "[[1 2 3]\n",
      " [4 5 6]\n",
      " [7 8 9]]\n",
      "Определитель равен -0.000, ранг матрицы 2.\n"
     ]
    }
   ],
   "source": [
    "A = np.array([[1,2,3], [4,5,6], [7,8,9]])\n",
    "print(A)\n",
    "# проверим что система не совместна и найдём ранг матрицы A\n",
    "det = np.linalg.det(A)\n",
    "rang = np.linalg.matrix_rank(A)\n",
    "print('Определитель равен %.3f, ранг матрицы %d.' % (det, rang))"
   ]
  },
  {
   "cell_type": "code",
   "execution_count": 128,
   "metadata": {},
   "outputs": [
    {
     "name": "stdout",
     "output_type": "stream",
     "text": [
      "[[-0.12309149  0.90453403  0.40824829]\n",
      " [-0.49236596  0.30151134 -0.81649658]\n",
      " [-0.86164044 -0.30151134  0.40824829]]\n",
      "[[-8.12403840e+00 -9.60113630e+00 -1.10782342e+01]\n",
      " [ 0.00000000e+00  9.04534034e-01  1.80906807e+00]\n",
      " [ 0.00000000e+00  0.00000000e+00 -1.11164740e-15]]\n"
     ]
    }
   ],
   "source": [
    "B = np.array([2, 5, 11])\n",
    "Q, R = np.linalg.qr(A)\n",
    "\n",
    "print(Q)\n",
    "print(R)"
   ]
  },
  {
   "cell_type": "code",
   "execution_count": 129,
   "metadata": {},
   "outputs": [
    {
     "name": "stdout",
     "output_type": "stream",
     "text": [
      "[[4.44089210e-16 6.21724894e-15 7.99360578e-15]\n",
      " [0.00000000e+00 2.66453526e-15 3.55271368e-15]\n",
      " [0.00000000e+00 3.55271368e-15 5.32907052e-15]]\n",
      "[[ 1.00000000e+00 -5.26517217e-16 -2.55176183e-16]\n",
      " [-5.26517217e-16  1.00000000e+00  3.37757775e-16]\n",
      " [-2.55176183e-16  3.37757775e-16  1.00000000e+00]]\n"
     ]
    }
   ],
   "source": [
    "# проверка правильности разложения: QR == A\n",
    "print(np.dot(Q, R) - A)\n",
    "# проверка ортогональности матрицы Q\n",
    "print(np.dot(np.transpose(Q), Q))"
   ]
  },
  {
   "cell_type": "markdown",
   "metadata": {},
   "source": [
    "Псевдорешение выражается формулой $R_1 \\cdot X_1 = Q^T \\cdot B - R_2 \\cdot X_2$. Так как ранг исходной матрицы $A$ равен 2, то размерность подматрицы $R_1$ тоже будет 2x2. "
   ]
  },
  {
   "cell_type": "code",
   "execution_count": 130,
   "metadata": {},
   "outputs": [
    {
     "data": {
      "text/plain": [
       "array([[-8.1240384 , -9.6011363 ],\n",
       "       [ 0.        ,  0.90453403]])"
      ]
     },
     "execution_count": 130,
     "metadata": {},
     "output_type": "execute_result"
    }
   ],
   "source": [
    "R1 = R[:2, :2]\n",
    "R1"
   ]
  },
  {
   "cell_type": "code",
   "execution_count": 131,
   "metadata": {},
   "outputs": [
    {
     "data": {
      "text/plain": [
       "array([-1.21860576e+01,  8.54871729e-15])"
      ]
     },
     "execution_count": 131,
     "metadata": {},
     "output_type": "execute_result"
    }
   ],
   "source": [
    "B1 = np.dot(np.transpose(Q), B)[:2]\n",
    "B1"
   ]
  },
  {
   "cell_type": "code",
   "execution_count": 132,
   "metadata": {},
   "outputs": [
    {
     "data": {
      "text/plain": [
       "array([1.50000000e+00, 9.45096256e-15])"
      ]
     },
     "execution_count": 132,
     "metadata": {},
     "output_type": "execute_result"
    }
   ],
   "source": [
    "X1 = np.linalg.solve(R1, B1)\n",
    "X1"
   ]
  },
  {
   "cell_type": "code",
   "execution_count": 133,
   "metadata": {},
   "outputs": [
    {
     "name": "stdout",
     "output_type": "stream",
     "text": [
      "Одно из псевдорешений исходной системы уравнений: x1=1.50, x2=0.00, x3=0.00.\n",
      "Норма найденного псевдорешения 1.500. Невязка 1.225.\n"
     ]
    }
   ],
   "source": [
    "# дополняем решение нулевой матрицей X2\n",
    "X = np.append(X1, 0)\n",
    "# норма найденного псевдорешения\n",
    "norm = np.linalg.norm(X)\n",
    "# невязка найденного псевдорешения\n",
    "nev = np.linalg.norm(np.dot(A, X) - B)\n",
    "\n",
    "print('Одно из псевдорешений исходной системы уравнений: x1=%.2f, x2=%.2f, x3=%.2f.' % (X[0], X[1], X[2]))\n",
    "print('Норма найденного псевдорешения %.3f. Невязка %.3f.' % (norm, nev))"
   ]
  },
  {
   "cell_type": "markdown",
   "metadata": {},
   "source": [
    "Найдём нормальное псевдорешение с минимальной нормой вектора X."
   ]
  },
  {
   "cell_type": "code",
   "execution_count": 134,
   "metadata": {},
   "outputs": [],
   "source": [
    "def Q(x, y, z):\n",
    "    return (x**2 + y**2 + z**2)\n",
    "\n",
    "def Y(x):\n",
    "    return 10*x-14\n",
    "\n",
    "def Z(x):\n",
    "    return x+2*Y(x)-1"
   ]
  },
  {
   "cell_type": "code",
   "execution_count": 135,
   "metadata": {},
   "outputs": [
    {
     "name": "stdout",
     "output_type": "stream",
     "text": [
      "Нормальное псевдорешение x1=1.25, x2=0.50, x3=-0.25. Его норма 1.369 меньше нормы предыдущего решения. Невязка 1.225 такая же, как и у предыдущего решения.\n"
     ]
    }
   ],
   "source": [
    "roots = np.linalg.lstsq(A, B, rcond=None)[0]\n",
    "norm = np.linalg.norm(roots)\n",
    "nev = np.linalg.norm(np.dot(A, roots) - B)\n",
    "print( \\\n",
    "    'Нормальное псевдорешение x1=%.2f, x2=%.2f, x3=%.2f. Его норма %.3f меньше нормы предыдущего решения. Невязка %.3f такая же, как и у предыдущего решения.' \\\n",
    "    % (roots[0], roots[1], roots[2], norm, nev) \\\n",
    " )"
   ]
  },
  {
   "cell_type": "code",
   "execution_count": null,
   "metadata": {},
   "outputs": [],
   "source": []
  }
 ],
 "metadata": {
  "kernelspec": {
   "display_name": "Python 3",
   "language": "python",
   "name": "python3"
  },
  "language_info": {
   "codemirror_mode": {
    "name": "ipython",
    "version": 3
   },
   "file_extension": ".py",
   "mimetype": "text/x-python",
   "name": "python",
   "nbconvert_exporter": "python",
   "pygments_lexer": "ipython3",
   "version": "3.7.6"
  }
 },
 "nbformat": 4,
 "nbformat_minor": 4
}
