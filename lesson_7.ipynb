{
 "cells": [
  {
   "cell_type": "markdown",
   "metadata": {},
   "source": [
    "## Введение в линейную алгебру\n",
    "\n",
    "5\\.1 Вектор – это частный случай матрицы 1xN и Nx1. Повторите материал для векторов, уделяя особое внимание умножению $A \\cdot B$.\n",
    "Вычислите, по возможности не используя программирование: (5Е)–1, где Е – единичная матрица размера 5x5.\n",
    "\n",
    "$$\n",
    "5 \\cdot\n",
    "\\begin{vmatrix} \n",
    "    1 & 0 & 0 & 0 & 0 \\\\\n",
    "    0 & 1 & 0 & 0 & 0 \\\\\n",
    "    0 & 0 & 1 & 0 & 0 \\\\\n",
    "    0 & 0 & 0 & 1 & 0 \\\\\n",
    "    0 & 0 & 0 & 0 & 1 \\\\\n",
    "\\end{vmatrix} \n",
    "- 1 = \n",
    "\\begin{vmatrix} \n",
    "    4 & -1 & -1 & -1 & -1 \\\\\n",
    "    -1 & 4 & -1 & -1 & -1 \\\\\n",
    "    -1 & -1 & 4 & -1 & -1 \\\\\n",
    "    -1 & -1 & -1 & 4 & -1 \\\\\n",
    "    -1 & -1 & -1 & -1 & 4 \\\\\n",
    "\\end{vmatrix} \n",
    "$$"
   ]
  },
  {
   "cell_type": "markdown",
   "metadata": {},
   "source": [
    "5\\.2 Вычислите определитель:\n",
    "\n",
    "$$\n",
    "\\begin{vmatrix} \n",
    "    1 & 2 & 3 \\\\\n",
    "    4 & 0 & 6 \\\\\n",
    "    7 & 8 & 9 \\\\\n",
    "\\end{vmatrix}\n",
    "= 1 \\cdot \n",
    "\\begin{vmatrix} \n",
    "    0 & 6  \\\\\n",
    "    8 & 9  \\\\\n",
    "\\end{vmatrix} \n",
    "- 2 \\cdot\n",
    "\\begin{vmatrix} \n",
    "    4 & 6  \\\\\n",
    "    7 & 9  \\\\\n",
    "\\end{vmatrix} \n",
    "+ 3 \\cdot\n",
    "\\begin{vmatrix} \n",
    "    4 & 0 \\\\\n",
    "    7 & 8 \\\\\n",
    "\\end{vmatrix} \n",
    "= \\\\\n",
    "= 1 \\cdot (-48) - 2 \\cdot (-6) + 3 \\cdot 32 = 60\n",
    "$$"
   ]
  },
  {
   "cell_type": "markdown",
   "metadata": {},
   "source": [
    "5.3.1 Вычислите матрицу, обратную данной:\n",
    "\n",
    "$$\n",
    "A = \n",
    "\\begin{vmatrix} \n",
    "    1 & 2 & 3  \\\\\n",
    "    4 & 0 & 6  \\\\\n",
    "    7 & 8 & 9  \\\\\n",
    "\\end{vmatrix} \n",
    "$$\n",
    "\n",
    "$$\n",
    "A^{-1} = \\frac{A_*^T}{detA} \\\\\n",
    "$$\n",
    "\n",
    "$$\n",
    "A_* = \n",
    "\\begin{vmatrix} \n",
    "    -48 & -6 & 32 \\\\\n",
    "    6 & -12 & 6 \\\\\n",
    "    12 & 6 & -8  \\\\\n",
    "\\end{vmatrix} \n",
    "$$\n",
    "\n",
    "$$\n",
    "A_*^T = \n",
    "\\begin{vmatrix} \n",
    "    -48 & 6 & 12 \\\\\n",
    "    -6 & -12 & 6 \\\\\n",
    "    32 & 6 & -8  \\\\\n",
    "\\end{vmatrix} \n",
    "$$\n",
    "\n",
    "$$detA = -60$$\n",
    "\n",
    "Получили что \n",
    "\n",
    "$$\n",
    "A^{-1} = \n",
    "\\begin{vmatrix} \n",
    "    -0.8 & 0.1 & 0.2 \\\\\n",
    "    -0.1 & -0.2 & 0.1 \\\\\n",
    "    8/15 & 0.1 & -2/15  \\\\\n",
    "\\end{vmatrix} \n",
    "$$"
   ]
  },
  {
   "cell_type": "markdown",
   "metadata": {},
   "source": [
    "5.3.2 Приведите пример матрицы 4x4, ранг которой равен 1.\n",
    "\n",
    "\\begin{vmatrix} \n",
    "    1 & 2 & 3 & 4 \\\\\n",
    "    2 & 4 & 6 & 8 \\\\\n",
    "    3 & 6 & 9 & 12 \\\\\n",
    "    4 & 8 & 12 & 16 \\\\\n",
    "\\end{vmatrix} "
   ]
  },
  {
   "cell_type": "markdown",
   "metadata": {},
   "source": [
    "5.4 Вычислите скалярное произведение двух векторов: (1, 5) и (2, 8).\n",
    "\n",
    "Ответ: 42"
   ]
  },
  {
   "cell_type": "markdown",
   "metadata": {},
   "source": [
    "5.5 Вычислите смешанное произведение трех векторов: (1, 5, 0), (2, 8, 7) и (7, 1.5, 3).\n",
    "\n",
    "$$\n",
    "\\vec{a} = (1, 5, 0) \\\\\n",
    "\\vec{b} = (2, 8, 7) \\\\\n",
    "\\vec{c} = (7, 1.5, 3) \\\\\n",
    "(\\vec{a}\\times\\vec{b})\\cdot{\\vec{c}} = \\\\\n",
    "= (35, -7, -2)\\cdot{(7, 1.5, 3)} = 228.5\n",
    "$$"
   ]
  },
  {
   "cell_type": "markdown",
   "metadata": {},
   "source": [
    "## Системы линейных алгебраических уравнений\n",
    "\n",
    "6\\.1 Решите линейную систему:\n",
    "\n",
    "$$\n",
    "\\begin{bmatrix}\n",
    "1 & 2 & 3 \\\\\n",
    "4 & 0 & 6 \\\\\n",
    "7 & 8 & 9\n",
    "\\end{bmatrix} \n",
    "\\cdot X = \n",
    "\\begin{bmatrix}\n",
    "12 \\\\\n",
    "2 \\\\\n",
    "1\n",
    "\\end{bmatrix} \n",
    "$$"
   ]
  },
  {
   "cell_type": "code",
   "execution_count": null,
   "metadata": {},
   "outputs": [],
   "source": []
  },
  {
   "cell_type": "markdown",
   "metadata": {},
   "source": [
    "6\\.2 Найдите псевдорешение:\n",
    "\n",
    "\\begin{cases}\n",
    "x + 2y – z = 1 \\\\\n",
    "3x – 4y = 7 \\\\\n",
    "8x – 5y + 2z = 12 \\\\\n",
    "2x – 5z = 7 \\\\\n",
    "11x +4y – 7z = 15 \\\\\n",
    "\\end{cases}"
   ]
  },
  {
   "cell_type": "code",
   "execution_count": null,
   "metadata": {},
   "outputs": [],
   "source": []
  },
  {
   "cell_type": "markdown",
   "metadata": {},
   "source": [
    "6\\.3 Сколько решений имеет линейная система:\n",
    "\n",
    "$$\n",
    "\\begin{bmatrix}\n",
    "1 & 2 & 3 \\\\\n",
    "4 & 5 & 6 \\\\\n",
    "7 & 8 & 9\n",
    "\\end{bmatrix} \n",
    "\\cdot X = \n",
    "\\begin{bmatrix}\n",
    "12 \\\\\n",
    "2 \\\\\n",
    "1\n",
    "\\end{bmatrix} \n",
    "$$\n",
    "\n",
    "Если ноль – то измените вектор правой части так, чтобы система стала совместной, и решите ее."
   ]
  },
  {
   "cell_type": "code",
   "execution_count": null,
   "metadata": {},
   "outputs": [],
   "source": []
  },
  {
   "cell_type": "markdown",
   "metadata": {},
   "source": [
    "6\\.4 Вычислите LU-разложение матрицы:\n",
    "\n",
    "\\begin{bmatrix}\n",
    "1 & 2 & 3 \\\\\n",
    "2 & 16 & 21 \\\\\n",
    "4 & 28 & 73\n",
    "\\end{bmatrix} \n",
    "\n",
    "После этого придумайте вектор правых частей и решите полученную линейную систему трех уравнений с данной матрицей."
   ]
  },
  {
   "cell_type": "code",
   "execution_count": null,
   "metadata": {},
   "outputs": [],
   "source": []
  },
  {
   "cell_type": "markdown",
   "metadata": {},
   "source": [
    "6\\.5 Найдите нормальное псевдорешение недоопределенной системы:\n",
    "\n",
    "\\begin{cases}\n",
    "x + 2y – z = 1 \\\\\n",
    "8x – 5y + 2z = 12\n",
    "\\end{cases}\n",
    "\n",
    "Для этого определите функцию Q(x,y,z), равную норме решения, и найдите ее минимум."
   ]
  },
  {
   "cell_type": "code",
   "execution_count": null,
   "metadata": {},
   "outputs": [],
   "source": []
  },
  {
   "cell_type": "markdown",
   "metadata": {},
   "source": [
    "6\\.6 Найдите одно из псевдорешений вырожденной системы:\n",
    "\n",
    "$$\n",
    "\\begin{bmatrix}\n",
    "1 & 2 & 3 \\\\\n",
    "4 & 5 & 6 \\\\\n",
    "7 & 8 & 9\n",
    "\\end{bmatrix} \n",
    "\\cdot X = \n",
    "\\begin{bmatrix}\n",
    "2 \\\\\n",
    "5 \\\\\n",
    "11\n",
    "\\end{bmatrix} \n",
    "$$\n",
    "\n",
    "Попробуйте также отыскать и нормальное псевдорешение."
   ]
  },
  {
   "cell_type": "code",
   "execution_count": null,
   "metadata": {},
   "outputs": [],
   "source": []
  }
 ],
 "metadata": {
  "kernelspec": {
   "display_name": "Python 3",
   "language": "python",
   "name": "python3"
  },
  "language_info": {
   "codemirror_mode": {
    "name": "ipython",
    "version": 3
   },
   "file_extension": ".py",
   "mimetype": "text/x-python",
   "name": "python",
   "nbconvert_exporter": "python",
   "pygments_lexer": "ipython3",
   "version": "3.7.6"
  }
 },
 "nbformat": 4,
 "nbformat_minor": 4
}
