{
 "cells": [
  {
   "cell_type": "code",
   "execution_count": 4,
   "metadata": {},
   "outputs": [],
   "source": [
    "import numpy as np"
   ]
  },
  {
   "cell_type": "markdown",
   "metadata": {},
   "source": [
    "## Аналитическая геометрия и Графики на плоскости\n",
    "\n",
    "1\\. Решите уравнение $\\sin(x)/x = 0$\n",
    "\n",
    "$$\\left[ \n",
    "      \\begin{gathered} \n",
    "        x = &\\pi{n}, n \\ne0 \\\\ \n",
    "        x = &\\pm\\infty \\\\ \n",
    "      \\end{gathered} \n",
    "\\right.$$"
   ]
  },
  {
   "cell_type": "markdown",
   "metadata": {},
   "source": [
    "2\\. Даны три прямые $y=k_1x+b_1, y=k_2x+b_2, y=k_3x+b_3$. Как узнать, пересекаются они в одной точке или нет?\n",
    "\n",
    "Составим систему уравнений \n",
    "\n",
    "$$\n",
    "\\begin{equation*}\n",
    " \\begin{cases}\n",
    "   k_1x - y + b_1 = 0\n",
    "   \\\\\n",
    "   k_2x - y + b_2 = 0\n",
    "   \\\\\n",
    "   k_3x - y + b_3 = 0\n",
    " \\end{cases}\n",
    "\\end{equation*}\n",
    "$$\n",
    "\n",
    "Матрица коэффициентов\n",
    "\n",
    "$$\n",
    "\\begin{bmatrix}\n",
    "    k_1& -1& b_1\\\\\n",
    "    k_2& -1& b_2\\\\\n",
    "    k_3& -1& b_3.\n",
    "\\end{bmatrix}\n",
    "$$\n",
    "\n",
    "У нас есть два неизвестных и три уравнения. Если ранг матрицы равен 3, то система уравнений не решаема. Значит чтобы три прямые пересекались в одной точке, необходимо, чтобы ранг матрицы был равен 2. При ранге матрицы 1 все три прямые будут совпадать.\n"
   ]
  },
  {
   "cell_type": "markdown",
   "metadata": {},
   "source": [
    "3\\. Задание (в программе или на листочке). На листе тетради «в линейку» (расстояние между линиями равно а) лежит игла (длиной b). Координаты нижней точки иглы (х,у), игла лежит под углом $\\alpha$. Пересекает ли игла линию или нет?\n",
    "\n",
    "Игла будет пересекать линию, если точка конца $(x_1, y_1)$ иглы будет лежать в другом квадрате клетки. $x_1 = x + b\\cos\\alpha, y_1 = y + b\\sin\\alpha$. \n",
    "\n",
    "Рассмотрим координаты $x$ и $x_1$ в одномерной системе координат. Точка $x$ лежит на отрезке с номером $[{x\\over{a}}] + 1$, точка $x_1$ - на отрезке с номером $[{x_1\\over{a}}] + 1$. Если это разные отрезки, то отрезок $(x, x_1)$ пересекает вертикальную линию решетки. Аналогичное верно и для оси $y$. Математически, условие пересечение иглой линии решетки запишется так:\n",
    "\n",
    "$$\n",
    "\\left[ \n",
    "    \\begin{gathered} \n",
    "        |[{x_1\\over{a}}] - [{x\\over{a}}]| \\geq 1 \\\\\n",
    "        |[{y_1\\over{a}}] - [{y\\over{a}}]| \\geq 1 \\\\\n",
    "    \\end{gathered} \n",
    "\\right.\n",
    "$$\n",
    "\n",
    "Решение в программе:"
   ]
  },
  {
   "cell_type": "code",
   "execution_count": 30,
   "metadata": {},
   "outputs": [],
   "source": [
    "# вычисляем в разных отрезках или нет находятся x и x1\n",
    "def is_diff(x, x1, a):\n",
    "    return abs((x1 // a) - (x // a)) >= 1"
   ]
  },
  {
   "cell_type": "code",
   "execution_count": 31,
   "metadata": {},
   "outputs": [],
   "source": [
    "# получаем координаты конца отрезка\n",
    "def get_end(x, y, b, alpha):\n",
    "    return (x + b * np.cos(alpha), y + b * np.sin(alpha))"
   ]
  },
  {
   "cell_type": "code",
   "execution_count": 32,
   "metadata": {},
   "outputs": [],
   "source": [
    "# результирующая функция\n",
    "def get_solution(x, y, a, b, alpha):\n",
    "    x1, y1 = get_end(x, y, b, alpha);\n",
    "    return is_diff(x, x1, a) or is_diff(y, y1, a)"
   ]
  },
  {
   "cell_type": "code",
   "execution_count": 37,
   "metadata": {},
   "outputs": [
    {
     "data": {
      "text/plain": [
       "False"
      ]
     },
     "execution_count": 37,
     "metadata": {},
     "output_type": "execute_result"
    }
   ],
   "source": [
    "get_solution(0, 0, 10, 10, np.pi/4)"
   ]
  },
  {
   "cell_type": "code",
   "execution_count": 38,
   "metadata": {},
   "outputs": [
    {
     "data": {
      "text/plain": [
       "True"
      ]
     },
     "execution_count": 38,
     "metadata": {},
     "output_type": "execute_result"
    }
   ],
   "source": [
    "get_solution(0, 0, 10, 20, np.pi/4)"
   ]
  },
  {
   "cell_type": "markdown",
   "metadata": {},
   "source": [
    "4\\. Решите аналитически и потом численно (в программе) уравнение, зависящее от параметра а: $\\sin(аx)=0$ при условии: 0.01<a<0.02, 100<х<500. Т.е. надо найти решение х как функцию параметра а - построить график x=x(а).\n",
    "Если численным методом не получается найти все ветви решения x(а), то отыщите хотя бы одну."
   ]
  },
  {
   "cell_type": "code",
   "execution_count": null,
   "metadata": {},
   "outputs": [],
   "source": []
  },
  {
   "cell_type": "code",
   "execution_count": null,
   "metadata": {},
   "outputs": [],
   "source": []
  },
  {
   "cell_type": "code",
   "execution_count": null,
   "metadata": {},
   "outputs": [],
   "source": []
  },
  {
   "cell_type": "markdown",
   "metadata": {},
   "source": [
    "17.6.2. Найти угол $\\alpha$ между прямыми $4y - 3x + 12 = 0$ и $7y + x - 14 = 0$."
   ]
  },
  {
   "cell_type": "code",
   "execution_count": null,
   "metadata": {},
   "outputs": [],
   "source": []
  },
  {
   "cell_type": "code",
   "execution_count": null,
   "metadata": {},
   "outputs": [],
   "source": []
  },
  {
   "cell_type": "code",
   "execution_count": null,
   "metadata": {},
   "outputs": [],
   "source": []
  },
  {
   "cell_type": "markdown",
   "metadata": {},
   "source": [
    "17.6.4. Найти угол $\\alpha$ между прямыми $x = \\sqrt2$ и $x = -\\sqrt3$."
   ]
  },
  {
   "cell_type": "code",
   "execution_count": null,
   "metadata": {},
   "outputs": [],
   "source": []
  },
  {
   "cell_type": "code",
   "execution_count": null,
   "metadata": {},
   "outputs": [],
   "source": []
  },
  {
   "cell_type": "markdown",
   "metadata": {},
   "source": [
    "Вычислить тип кривых второго порядка, порожденных следующими уравнениями."
   ]
  },
  {
   "cell_type": "markdown",
   "metadata": {},
   "source": [
    "17.6.5. $y^2 - 2x - 2y - 5 = 0$\n",
    "\n",
    "$$\n",
    "x = \\frac{(y - 1)^2}{2} - 3\n",
    "$$\n",
    "\n",
    "Это парабола, наклонённая на 90 градусов с вершиной в точке $(-3, 1)$."
   ]
  },
  {
   "cell_type": "markdown",
   "metadata": {},
   "source": [
    "17.6.6. $3x^2 + 5y^2 + 12x - 30y + 42 = 0$\n",
    "\n",
    "$$\n",
    "\\left(\\frac{x + 2}{\\sqrt{5}}\\right)^2 + \\left(\\frac{y - 3}{\\sqrt3}\\right)^2 = 1\n",
    "$$\n",
    "\n",
    "Это эллипс."
   ]
  },
  {
   "cell_type": "markdown",
   "metadata": {},
   "source": [
    "17.6.7. $2x^2 - y^2 + 6y - 7 = 0$\n",
    "\n",
    "$$\n",
    "x^2 - \\left(\\frac{y - 3}{\\sqrt2}\\right)^2 = -1\n",
    "$$\n",
    "\n",
    "Это гипербола."
   ]
  },
  {
   "cell_type": "markdown",
   "metadata": {},
   "source": [
    "17.6.8. $2x^2 - 3y^2 - 28x - 42y - 55 = 0$\n",
    "\n",
    "$$\n",
    "\\left(\\frac{x - 7}{\\sqrt{3}}\\right)^2 - \\left(\\frac{y + 7}{\\sqrt2}\\right)^2 = 1\n",
    "$$\n",
    "\n",
    "Это гипербола."
   ]
  },
  {
   "cell_type": "code",
   "execution_count": null,
   "metadata": {},
   "outputs": [],
   "source": []
  },
  {
   "cell_type": "code",
   "execution_count": null,
   "metadata": {},
   "outputs": [],
   "source": []
  }
 ],
 "metadata": {
  "kernelspec": {
   "display_name": "Python 3",
   "language": "python",
   "name": "python3"
  },
  "language_info": {
   "codemirror_mode": {
    "name": "ipython",
    "version": 3
   },
   "file_extension": ".py",
   "mimetype": "text/x-python",
   "name": "python",
   "nbconvert_exporter": "python",
   "pygments_lexer": "ipython3",
   "version": "3.7.6"
  }
 },
 "nbformat": 4,
 "nbformat_minor": 4
}
